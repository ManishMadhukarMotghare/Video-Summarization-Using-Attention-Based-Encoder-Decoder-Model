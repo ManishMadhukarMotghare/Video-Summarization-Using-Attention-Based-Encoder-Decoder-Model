{
  "cells": [
    {
      "cell_type": "markdown",
      "source": [
        "# **Data Handling :**\n",
        "In the following code blocks, we have read the h5 dataset (TVSum) and splitted it into train and test set."
      ],
      "metadata": {
        "id": "ce44bVqdtVEm"
      }
    },
    {
      "cell_type": "code",
      "execution_count": null,
      "metadata": {
        "id": "etC4wuOA3gl-"
      },
      "outputs": [],
      "source": [
        "# Importing essential libraries\n",
        "import h5py\n",
        "import numpy as np\n",
        "import tensorflow.keras as Keras\n",
        "from sklearn.model_selection import train_test_split"
      ]
    },
    {
      "cell_type": "code",
      "execution_count": null,
      "metadata": {
        "id": "IKSqb2wClWM5",
        "colab": {
          "base_uri": "https://localhost:8080/"
        },
        "outputId": "0f47e9c4-f339-45d9-caa3-49baead986e0"
      },
      "outputs": [
        {
          "output_type": "stream",
          "name": "stdout",
          "text": [
            "Mounted at /content/drive\n"
          ]
        }
      ],
      "source": [
        "# Mount your drive\n",
        "from google.colab import drive\n",
        "drive.mount('/content/drive')"
      ]
    },
    {
      "cell_type": "code",
      "execution_count": null,
      "metadata": {
        "id": "i9Tyr4vV5G3E"
      },
      "outputs": [],
      "source": [
        "# Defining a generator object to handle dataset\n",
        "import h5py\n",
        "import numpy as np\n",
        "import tensorflow.keras as Keras\n",
        "from sklearn.model_selection import train_test_split\n",
        "\n",
        "class DataGenerator(Keras.utils.Sequence):\n",
        "\n",
        "    def __init__(self,dataset,batch_size=5,shuffle=False):\n",
        "        '''Initialise the dataset'''      \n",
        "        self.dataset = dataset\n",
        "        self.batch_size = batch_size\n",
        "        self.shuffle = shuffle\n",
        "        self.on_epoch_end()\n",
        "\n",
        "    def __len__(self):\n",
        "        '''Returns length of the dataset'''\n",
        "        return int(np.floor(len(self.dataset)/self.batch_size))\n",
        "\n",
        "    def __getitem__(self,index):\n",
        "        '''Returns items of given index'''\n",
        "        indexes = self.indices[index * self.batch_size : (index+1) * self.batch_size]\n",
        "        feature, label = self.__data_generation(indexes)\n",
        "\n",
        "        return feature, label\n",
        "\n",
        "    def __data_generation(self,indexes):\n",
        "        '''Generates data from given indices'''\n",
        "        feature = np.empty((self.batch_size,320,1024))\n",
        "        label = np.empty((self.batch_size,320,1))\n",
        "\n",
        "        for i in range(len(indexes)):\n",
        "            feature[i,] = np.array(self.dataset[indexes[i]][0])\n",
        "            label[i,] = np.array(self.dataset[indexes[i]][1]).reshape(-1,1)\n",
        "\n",
        "        return feature,label\n",
        "\n",
        "    def on_epoch_end(self):\n",
        "\n",
        "        self.indices = np.arange(len(self.dataset))\n",
        "        if self.shuffle == True:\n",
        "            np.random.shuffle(self.indices)"
      ]
    },
    {
      "cell_type": "code",
      "execution_count": null,
      "metadata": {
        "id": "99n8lEJ_lW0D"
      },
      "outputs": [],
      "source": [
        "# Defining a class to read the h5 dataset\n",
        "class DatasetMaker(object):\n",
        "\n",
        "    def __init__(self,data_path):\n",
        "        '''Read file from defined path'''\n",
        "\n",
        "        self.data_file = h5py.File(data_path)\n",
        "\n",
        "    def __len__(self):\n",
        "        '''Returns length of the file'''\n",
        "\n",
        "        return len(self.data_file)\n",
        "\n",
        "    def __getitem__(self,index):\n",
        "        '''Returns feature, label and index of varoius keys'''\n",
        "\n",
        "        index += 1\n",
        "        video = self.data_file['video_'+str(index)]\n",
        "        feature = np.array(video['feature'][:])\n",
        "        label = np.array(video['label'][:])\n",
        "\n",
        "        return feature,label,index\n",
        "\n",
        "# Defining a function to read and split the dataset into train and test\n",
        "def get_loader(path, batch_size=5):\n",
        "    '''Takes file path as argument and returns train and test set'''\n",
        "\n",
        "    dataset = DatasetMaker(path)\n",
        "    train_dataset, test_dataset = train_test_split(dataset, test_size = 0.2, random_state = 123)\n",
        "    train_loader = DataGenerator(train_dataset)\n",
        "\n",
        "    return train_loader, test_dataset"
      ]
    },
    {
      "cell_type": "code",
      "execution_count": null,
      "metadata": {
        "id": "vo9kGpxns7kH"
      },
      "outputs": [],
      "source": [
        "# Loading and splitting the dataset\n",
        "train_loader, test_dataset = get_loader('fcsn_tvsum.h5')"
      ]
    },
    {
      "cell_type": "code",
      "execution_count": null,
      "metadata": {
        "colab": {
          "base_uri": "https://localhost:8080/"
        },
        "id": "d5GBQfRTtZej",
        "outputId": "2af57909-14b7-489d-f0d9-a839ab2d32b3"
      },
      "outputs": [
        {
          "output_type": "execute_result",
          "data": {
            "text/plain": [
              "(array([[[0.33214834, 0.36458752, 0.34766391, ..., 0.42054603,\n",
              "          0.38009831, 0.40780613],\n",
              "         [0.3677392 , 0.32178515, 0.3589496 , ..., 0.38658553,\n",
              "          0.40404913, 0.41493717],\n",
              "         [0.32732472, 0.34487578, 0.34561759, ..., 0.39767522,\n",
              "          0.40643126, 0.41305968],\n",
              "         ...,\n",
              "         [0.33563241, 0.37010661, 0.36633509, ..., 0.45292339,\n",
              "          0.39594346, 0.37678552],\n",
              "         [0.33977899, 0.36665431, 0.36543891, ..., 0.45478585,\n",
              "          0.39663646, 0.37431845],\n",
              "         [0.33928111, 0.36744118, 0.3657186 , ..., 0.45513114,\n",
              "          0.39545387, 0.37432   ]],\n",
              " \n",
              "        [[0.35793796, 0.32084152, 0.37723896, ..., 0.41072085,\n",
              "          0.3839736 , 0.41116855],\n",
              "         [0.36485991, 0.33529118, 0.37920213, ..., 0.41223219,\n",
              "          0.3917633 , 0.43476462],\n",
              "         [0.35199738, 0.36249325, 0.37726289, ..., 0.42207533,\n",
              "          0.36644816, 0.38966513],\n",
              "         ...,\n",
              "         [0.3703391 , 0.3461917 , 0.37459537, ..., 0.40429765,\n",
              "          0.33990452, 0.40999681],\n",
              "         [0.37382761, 0.35740691, 0.3737812 , ..., 0.40579909,\n",
              "          0.34025005, 0.42123985],\n",
              "         [0.36916795, 0.35790065, 0.35963887, ..., 0.41179281,\n",
              "          0.35751858, 0.38713357]],\n",
              " \n",
              "        [[0.35015196, 0.34783071, 0.36422643, ..., 0.43015617,\n",
              "          0.39421958, 0.38914019],\n",
              "         [0.34714916, 0.35130271, 0.35901499, ..., 0.4423781 ,\n",
              "          0.39859053, 0.35461709],\n",
              "         [0.35979673, 0.34787723, 0.31446978, ..., 0.41950175,\n",
              "          0.376066  , 0.39225656],\n",
              "         ...,\n",
              "         [0.3571257 , 0.3617692 , 0.33526316, ..., 0.42916217,\n",
              "          0.38293386, 0.38649842],\n",
              "         [0.34900528, 0.37535924, 0.37390062, ..., 0.41907826,\n",
              "          0.41019854, 0.40461046],\n",
              "         [0.33053771, 0.31800333, 0.36445597, ..., 0.42243949,\n",
              "          0.35988572, 0.40587237]],\n",
              " \n",
              "        [[0.36880067, 0.34754714, 0.36875182, ..., 0.40846631,\n",
              "          0.38985437, 0.41435403],\n",
              "         [0.36340186, 0.31616506, 0.37342569, ..., 0.3920157 ,\n",
              "          0.37714553, 0.41635743],\n",
              "         [0.37571999, 0.35506269, 0.3716144 , ..., 0.4235208 ,\n",
              "          0.40945548, 0.41023391],\n",
              "         ...,\n",
              "         [0.33406928, 0.36451951, 0.35568312, ..., 0.42077681,\n",
              "          0.38365719, 0.42220297],\n",
              "         [0.30995813, 0.36981937, 0.37558779, ..., 0.44962117,\n",
              "          0.4065246 , 0.40008983],\n",
              "         [0.32665542, 0.35169175, 0.34571123, ..., 0.3710458 ,\n",
              "          0.39723426, 0.41142488]],\n",
              " \n",
              "        [[0.32711574, 0.36090136, 0.35487548, ..., 0.43455762,\n",
              "          0.41222981, 0.40423819],\n",
              "         [0.35583112, 0.34358945, 0.38390523, ..., 0.42699414,\n",
              "          0.40920258, 0.40973708],\n",
              "         [0.33993497, 0.36056444, 0.35756734, ..., 0.41760808,\n",
              "          0.36041412, 0.39836091],\n",
              "         ...,\n",
              "         [0.36384341, 0.37387246, 0.39191553, ..., 0.42976627,\n",
              "          0.40843818, 0.39257786],\n",
              "         [0.35741773, 0.33870134, 0.3844749 , ..., 0.41993633,\n",
              "          0.37879801, 0.41165343],\n",
              "         [0.37617159, 0.34584692, 0.36718494, ..., 0.42151481,\n",
              "          0.40552357, 0.38530803]]]), array([[[1.],\n",
              "         [1.],\n",
              "         [1.],\n",
              "         ...,\n",
              "         [0.],\n",
              "         [0.],\n",
              "         [0.]],\n",
              " \n",
              "        [[0.],\n",
              "         [0.],\n",
              "         [0.],\n",
              "         ...,\n",
              "         [0.],\n",
              "         [0.],\n",
              "         [0.]],\n",
              " \n",
              "        [[0.],\n",
              "         [0.],\n",
              "         [0.],\n",
              "         ...,\n",
              "         [0.],\n",
              "         [0.],\n",
              "         [0.]],\n",
              " \n",
              "        [[0.],\n",
              "         [0.],\n",
              "         [0.],\n",
              "         ...,\n",
              "         [0.],\n",
              "         [0.],\n",
              "         [0.]],\n",
              " \n",
              "        [[1.],\n",
              "         [1.],\n",
              "         [1.],\n",
              "         ...,\n",
              "         [0.],\n",
              "         [0.],\n",
              "         [0.]]]))"
            ]
          },
          "metadata": {},
          "execution_count": 6
        }
      ],
      "source": [
        "# Getting an overview of train set\n",
        "train_loader.__getitem__(1)"
      ]
    },
    {
      "cell_type": "code",
      "execution_count": null,
      "metadata": {
        "colab": {
          "base_uri": "https://localhost:8080/"
        },
        "id": "jTeZubqDtbJf",
        "outputId": "6ceffdc9-30b0-4b30-c20e-1f521d2ad5c4"
      },
      "outputs": [
        {
          "output_type": "execute_result",
          "data": {
            "text/plain": [
              "(array([[0.35971966, 0.3486733 , 0.36395055, ..., 0.42930636, 0.4150221 ,\n",
              "         0.41987327],\n",
              "        [0.36696154, 0.37052545, 0.37211522, ..., 0.4189313 , 0.4207554 ,\n",
              "         0.39118388],\n",
              "        [0.358309  , 0.37929296, 0.34820387, ..., 0.39622623, 0.39785638,\n",
              "         0.3821973 ],\n",
              "        ...,\n",
              "        [0.3435912 , 0.33795008, 0.35553935, ..., 0.41903496, 0.40541124,\n",
              "         0.42342108],\n",
              "        [0.34438112, 0.347014  , 0.37080073, ..., 0.42950776, 0.3868425 ,\n",
              "         0.36775845],\n",
              "        [0.35290626, 0.35092926, 0.37546453, ..., 0.4372162 , 0.37105322,\n",
              "         0.39629552]], dtype=float32),\n",
              " array([0., 0., 0., 0., 0., 0., 0., 0., 0., 0., 0., 0., 0., 0., 0., 0., 0.,\n",
              "        0., 0., 0., 0., 0., 0., 0., 0., 0., 0., 0., 0., 0., 0., 0., 0., 0.,\n",
              "        0., 0., 0., 0., 0., 0., 0., 0., 0., 0., 0., 0., 0., 0., 0., 0., 0.,\n",
              "        0., 0., 0., 0., 0., 0., 0., 0., 0., 0., 0., 0., 0., 0., 0., 0., 0.,\n",
              "        0., 0., 0., 0., 0., 0., 0., 0., 0., 0., 0., 0., 1., 1., 1., 1., 1.,\n",
              "        1., 1., 1., 1., 1., 1., 1., 1., 1., 1., 1., 1., 1., 1., 1., 1., 1.,\n",
              "        1., 1., 1., 1., 1., 1., 1., 1., 0., 0., 0., 0., 0., 0., 0., 0., 0.,\n",
              "        0., 0., 0., 0., 0., 1., 1., 1., 1., 1., 1., 1., 1., 1., 0., 0., 0.,\n",
              "        0., 0., 0., 0., 1., 1., 1., 1., 1., 1., 1., 1., 1., 1., 1., 1., 0.,\n",
              "        0., 0., 0., 0., 0., 0., 0., 0., 0., 0., 0., 0., 0., 0., 0., 0., 0.,\n",
              "        0., 0., 0., 0., 0., 0., 0., 0., 0., 0., 0., 0., 0., 0., 0., 0., 0.,\n",
              "        0., 0., 0., 0., 0., 0., 0., 0., 0., 0., 0., 0., 0., 0., 0., 0., 0.,\n",
              "        0., 0., 0., 0., 0., 0., 0., 0., 0., 0., 0., 0., 0., 0., 0., 0., 0.,\n",
              "        0., 0., 0., 0., 0., 0., 0., 0., 0., 0., 0., 0., 0., 0., 0., 0., 0.,\n",
              "        0., 0., 0., 0., 0., 0., 0., 0., 0., 0., 0., 0., 0., 0., 0., 0., 0.,\n",
              "        0., 0., 0., 0., 0., 0., 0., 0., 0., 0., 0., 0., 0., 0., 0., 0., 0.,\n",
              "        0., 0., 0., 0., 1., 1., 1., 1., 1., 1., 1., 1., 1., 0., 0., 0., 0.,\n",
              "        0., 0., 0., 0., 0., 0., 0., 0., 0., 0., 0., 0., 0., 0., 0., 0., 0.,\n",
              "        0., 0., 0., 0., 0., 0., 0., 0., 0., 0., 0., 0., 0., 0.]),\n",
              " 14)"
            ]
          },
          "metadata": {},
          "execution_count": 7
        }
      ],
      "source": [
        "# Getting an overview of test set\n",
        "test_dataset[1]"
      ]
    },
    {
      "cell_type": "markdown",
      "source": [
        "# **Model Training and Testing :**\n",
        "In this section, we have defined various functions to handle the algorithm in order and trained the model and tested it over the test set."
      ],
      "metadata": {
        "id": "3rQLUzmDwaYg"
      }
    },
    {
      "cell_type": "code",
      "execution_count": null,
      "metadata": {
        "id": "VwmOSsfFtmiA"
      },
      "outputs": [],
      "source": [
        "import numpy as np\n",
        "\n",
        "def knapsack(s, w, c): #shot, weights, capacity\n",
        "\n",
        "\n",
        "    shot = len(s) + 1 #number of shots\n",
        "    cap = c + 1 #capacity threshold\n",
        "\n",
        "    #matching the modified size by adding 0 at 0th index\n",
        "    s = np.r_[[0], s] #adding 0 at 0th index (concatinating)\n",
        "    w = np.r_[[0], w] #adding 0 at 0th index (concatinating)\n",
        "\n",
        "    #Creating and Filling Dynamic Programming Table with zeros in shot x cap dimensions\n",
        "    dp = [] #creating empty list or table\n",
        "    for j in range(shot):\n",
        "        dp.append([]) #s+1 rows\n",
        "        for i in range(cap):\n",
        "            dp[j].append(0) #c+1 columns\n",
        "\n",
        "    #Started filling values from (2nd row, 2nd column) till (shot X cap) and keeping the values for 0th indexes as 0\n",
        "    #following dynamic programming approach to fill values\n",
        "    for i in range(1,shot):\n",
        "        for j in range(1,cap):\n",
        "            if w[i] <= j:\n",
        "                dp[i][j] = max(s[i] + dp[i-1][j-w[i]], dp[i-1][j])\n",
        "            else:\n",
        "                dp[i][j] = dp[i-1][j]\n",
        "\n",
        "    #choosing the optimal pair of keyshots\n",
        "    choice = []\n",
        "    i = shot - 1\n",
        "    j = cap - 1\n",
        "    while i > 0 and j > 0:\n",
        "        if dp[i][j] != dp[i-1][j]: #starting from last element and going further\n",
        "            choice.append(i-1)\n",
        "            j = j - w[i]\n",
        "            i = i - 1\n",
        "        else:\n",
        "            i = i - 1\n",
        "\n",
        "    return dp[shot-1][cap-1], choice"
      ]
    },
    {
      "cell_type": "code",
      "source": [
        "import numpy as np\n",
        "\n",
        "def eval_metrics(y_pred, y_true):\n",
        "    '''Returns precision, recall and f1-score of given prediction and true value'''\n",
        "    overlap = np.sum(y_pred * y_true)\n",
        "    precision = overlap / (np.sum(y_pred) + 1e-8)\n",
        "    recall = overlap / (np.sum(y_true) + 1e-8)\n",
        "    if precision == 0 and recall == 0:\n",
        "        fscore = 0\n",
        "    else:\n",
        "        fscore = 2 * precision * recall / (precision + recall)\n",
        "\n",
        "    return [precision, recall, fscore]"
      ],
      "metadata": {
        "id": "XqXQj2hexaYs"
      },
      "execution_count": null,
      "outputs": []
    },
    {
      "cell_type": "code",
      "source": [
        "def select_keyshots(video_info, pred_score):\n",
        "    '''Returns predicted scores(upsampled), selected keyshots indices, predicted summary of given video'''\n",
        "    vidlen = video_info['length'][()]\n",
        "    cps = video_info['change_points'][:]\n",
        "    weight = video_info['n_frame_per_seg'][:]\n",
        "    pred_score = np.array(pred_score)\n",
        "    pred_score = upsample(pred_score, vidlen)\n",
        "    pred_value = np.array([pred_score[cp[0]:cp[1]].mean() for cp in cps])\n",
        "    _, selected = knapsack(pred_value, weight, int(0.2 * vidlen))\n",
        "    selected = selected[::-1]\n",
        "    key_labels = np.zeros((vidlen,))\n",
        "    for i in selected:\n",
        "        key_labels[cps[i][0]:cps[i][1]] = 1\n",
        "\n",
        "    return pred_score.tolist(), selected, key_labels.tolist()"
      ],
      "metadata": {
        "id": "AcMzXO7jxvOL"
      },
      "execution_count": null,
      "outputs": []
    },
    {
      "cell_type": "code",
      "source": [
        "def upsample(down_arr, vidlen):\n",
        "    '''Upsamples a given predicted score array to the size of video length'''\n",
        "    up_arr = np.zeros(vidlen)\n",
        "    ratio = vidlen // 320\n",
        "    l = (vidlen - ratio * 320) // 2\n",
        "    i = 0\n",
        "    while i < 320:\n",
        "        up_arr[l:l+ratio] = np.ones(ratio, dtype = int) * down_arr[0][i]\n",
        "        l += ratio\n",
        "        i += 1\n",
        "\n",
        "    return up_arr"
      ],
      "metadata": {
        "id": "IJ2F_cwryaQy"
      },
      "execution_count": null,
      "outputs": []
    },
    {
      "cell_type": "code",
      "source": [
        "import numpy as np\n",
        "import json\n",
        "import os\n",
        "from tqdm import tqdm, trange\n",
        "import h5py\n",
        "from prettytable import PrettyTable\n",
        "\n",
        "import tensorflow as tf\n",
        "from tensorflow.keras.models import Sequential\n",
        "from tensorflow.keras.layers import LSTM, Bidirectional, Dense, TimeDistributed, Concatenate\n",
        "from tensorflow.keras.layers import Attention\n",
        "from tensorflow.keras import Input, Model\n",
        "\n",
        "def evaluate(epoch_i):\n",
        "    '''Evaluates the model for given epoch on test dataset'''\n",
        "    out_dict = {}\n",
        "    eval_arr = []\n",
        "    table = PrettyTable()\n",
        "    table.title = 'Evaluation Result of epoch {}'.format(epoch_i)\n",
        "    table.field_names = ['ID', 'Precision', 'Recall', 'F-Score']\n",
        "    table.float_format = '1.5'\n",
        "\n",
        "    with h5py.File('fcsn_tvsum.h5') as data_file:\n",
        "        for feature, label, index in tqdm(test_dataset, desc = 'Evaluate', ncols = 90, leave = False):\n",
        "\n",
        "            pred_score = model.predict(feature.reshape(-1,320,1024))\n",
        "            video_info = data_file['video_'+str(index)]\n",
        "            pred_score, pred_selected, pred_summary = select_keyshots(video_info, pred_score)\n",
        "            true_summary_arr = video_info['user_summary'][:]\n",
        "            eval_res = [eval_metrics(pred_summary, true_summary) for true_summary in true_summary_arr]\n",
        "            eval_res = np.mean(eval_res, axis = 0).tolist()\n",
        "\n",
        "            eval_arr.append(eval_res)\n",
        "            table.add_row([index] + eval_res)\n",
        "\n",
        "            out_dict[str(index)] = {\n",
        "            'pred_score' : pred_score,\n",
        "            'pred_selected' : pred_selected,\n",
        "            'pred_summary' : pred_summary\n",
        "            }\n",
        "    eval_mean = np.mean(eval_arr, axis = 0).tolist()\n",
        "    table.add_row(['mean'] + eval_mean)\n",
        "    tqdm.write(str(table))"
      ],
      "metadata": {
        "id": "tSsHBO9uZZY5"
      },
      "execution_count": null,
      "outputs": []
    },
    {
      "cell_type": "code",
      "source": [
        "# Baseline implementation of algorithm mentioned in the paper (with only one extra BiLSTM layer) with some hyperparameter tuning\n",
        "\n",
        "import numpy as np\n",
        "import json\n",
        "import os\n",
        "from tqdm import tqdm, trange\n",
        "import h5py\n",
        "from prettytable import PrettyTable\n",
        "\n",
        "import tensorflow as tf\n",
        "from tensorflow.keras.models import Sequential\n",
        "from tensorflow.keras.layers import LSTM, Bidirectional, Dense, TimeDistributed, Concatenate\n",
        "from tensorflow.keras.layers import Attention\n",
        "from tensorflow.keras import Input, Model\n",
        "\n",
        "encoder_inputs = Input(shape = (320, 1024))\n",
        "\n",
        "encoder_BidirectionalLSTM = Bidirectional(LSTM(128, return_sequences = True, return_state = True))\n",
        "encoder_BidirectionalLSTM1 = Bidirectional(LSTM(128, return_sequences = True, return_state = True))\n",
        "encoder_out, fh, fc, bh, bc = encoder_BidirectionalLSTM(encoder_inputs)\n",
        "encoder_out, fh, fc, bh, bc = encoder_BidirectionalLSTM1(encoder_out)\n",
        "sh = Concatenate()([fh, bh])\n",
        "ch = Concatenate()([fc, bc])\n",
        "encoder_states = [sh, ch]\n",
        "\n",
        "decoder_LSTM = LSTM(256, return_sequences = True, dropout = 0.01, recurrent_dropout = 0.01)\n",
        "decoder_out = decoder_LSTM(encoder_out, initial_state = encoder_states)\n",
        "decoder_out = decoder_LSTM(decoder_out)\n",
        "attn_layer = Attention(name=\"Attention_Layer\")\n",
        "attn_out =  attn_layer([encoder_out, decoder_out])\n",
        "\n",
        "decoder_concat_input = Concatenate(axis = -1, name = 'concat_layer')([decoder_out, attn_out])\n",
        "\n",
        "dense = TimeDistributed(Dense(1, activation = 'sigmoid'))\n",
        "decoder_pred = dense(decoder_concat_input)\n",
        "\n",
        "model = Model(inputs = encoder_inputs, outputs = decoder_pred)\n",
        "\n",
        "opt = tf.keras.optimizers.Adam(learning_rate=0.01, beta_1 = 0.8, beta_2 = 0.8)\n",
        "#opt = tf.keras.optimizers.SGD(lr=0.001, decay=1e-6, momentum=0.9, nesterov=True)\n",
        "\n",
        "model.compile(loss = 'binary_crossentropy', optimizer = opt, metrics = ['accuracy'])\n",
        "model.summary()\n",
        "t = trange(10, desc = 'Epoch', ncols = 90)\n",
        "for epoch_i in t:\n",
        "\n",
        "    model.fit(train_loader)\n",
        "    evaluate(epoch_i)"
      ],
      "metadata": {
        "colab": {
          "base_uri": "https://localhost:8080/"
        },
        "id": "WaXsvwxs1iKs",
        "outputId": "b8c0a80e-7ff8-441d-d43c-68b1052822c1"
      },
      "execution_count": null,
      "outputs": [
        {
          "output_type": "stream",
          "name": "stdout",
          "text": [
            "Model: \"model_3\"\n",
            "__________________________________________________________________________________________________\n",
            " Layer (type)                   Output Shape         Param #     Connected to                     \n",
            "==================================================================================================\n",
            " input_5 (InputLayer)           [(None, 320, 1024)]  0           []                               \n",
            "                                                                                                  \n",
            " bidirectional_6 (Bidirectional  [(None, 320, 256),  1180672     ['input_5[0][0]']                \n",
            " )                               (None, 128),                                                     \n",
            "                                 (None, 128),                                                     \n",
            "                                 (None, 128),                                                     \n",
            "                                 (None, 128)]                                                     \n",
            "                                                                                                  \n",
            " bidirectional_7 (Bidirectional  [(None, 320, 256),  394240      ['bidirectional_6[0][0]']        \n",
            " )                               (None, 128),                                                     \n",
            "                                 (None, 128),                                                     \n",
            "                                 (None, 128),                                                     \n",
            "                                 (None, 128)]                                                     \n",
            "                                                                                                  \n",
            " concatenate_8 (Concatenate)    (None, 256)          0           ['bidirectional_7[0][1]',        \n",
            "                                                                  'bidirectional_7[0][3]']        \n",
            "                                                                                                  \n",
            " concatenate_9 (Concatenate)    (None, 256)          0           ['bidirectional_7[0][2]',        \n",
            "                                                                  'bidirectional_7[0][4]']        \n",
            "                                                                                                  \n",
            " lstm_12 (LSTM)                 (None, 320, 256)     525312      ['bidirectional_7[0][0]',        \n",
            "                                                                  'concatenate_8[0][0]',          \n",
            "                                                                  'concatenate_9[0][0]',          \n",
            "                                                                  'lstm_12[0][0]']                \n",
            "                                                                                                  \n",
            " Attention_Layer (Attention)    (None, 320, 256)     0           ['bidirectional_7[0][0]',        \n",
            "                                                                  'lstm_12[1][0]']                \n",
            "                                                                                                  \n",
            " concat_layer (Concatenate)     (None, 320, 512)     0           ['lstm_12[1][0]',                \n",
            "                                                                  'Attention_Layer[0][0]']        \n",
            "                                                                                                  \n",
            " time_distributed_3 (TimeDistri  (None, 320, 1)      513         ['concat_layer[0][0]']           \n",
            " buted)                                                                                           \n",
            "                                                                                                  \n",
            "==================================================================================================\n",
            "Total params: 2,100,737\n",
            "Trainable params: 2,100,737\n",
            "Non-trainable params: 0\n",
            "__________________________________________________________________________________________________\n"
          ]
        },
        {
          "output_type": "stream",
          "name": "stderr",
          "text": [
            "\rEpoch:   0%|                                                       | 0/10 [00:00<?, ?it/s]"
          ]
        },
        {
          "output_type": "stream",
          "name": "stdout",
          "text": [
            "8/8 [==============================] - 64s 6s/step - loss: 0.6351 - accuracy: 0.8121\n"
          ]
        },
        {
          "output_type": "stream",
          "name": "stderr",
          "text": [
            "\n",
            "Evaluate:   0%|                                                    | 0/10 [00:00<?, ?it/s]\u001b[A\n",
            "Evaluate:  10%|████▍                                       | 1/10 [00:03<00:31,  3.46s/it]\u001b[A\n",
            "Evaluate:  20%|████████▊                                   | 2/10 [00:04<00:14,  1.85s/it]\u001b[A\n",
            "Evaluate:  30%|█████████████▏                              | 3/10 [00:04<00:09,  1.34s/it]\u001b[A\n",
            "Evaluate:  40%|█████████████████▌                          | 4/10 [00:05<00:06,  1.10s/it]\u001b[A\n",
            "Evaluate:  50%|██████████████████████                      | 5/10 [00:06<00:04,  1.03it/s]\u001b[A\n",
            "Evaluate:  60%|██████████████████████████▍                 | 6/10 [00:07<00:03,  1.05it/s]\u001b[A\n",
            "Evaluate:  70%|██████████████████████████████▊             | 7/10 [00:08<00:02,  1.10it/s]\u001b[A\n",
            "Evaluate:  80%|███████████████████████████████████▏        | 8/10 [00:08<00:01,  1.19it/s]\u001b[A\n",
            "Evaluate:  90%|███████████████████████████████████████▌    | 9/10 [00:09<00:00,  1.24it/s]\u001b[A\n",
            "Evaluate: 100%|███████████████████████████████████████████| 10/10 [00:10<00:00,  1.26it/s]\u001b[A\n",
            "Epoch:  10%|████▌                                         | 1/10 [01:46<16:02, 106.91s/it]"
          ]
        },
        {
          "output_type": "stream",
          "name": "stdout",
          "text": [
            "+--------------------------------------+\n",
            "|     Evaluation Result of epoch 0     |\n",
            "+------+-----------+---------+---------+\n",
            "|  ID  | Precision |  Recall | F-Score |\n",
            "+------+-----------+---------+---------+\n",
            "|  11  |  0.57111  | 0.75993 | 0.65207 |\n",
            "|  14  |  0.51128  | 0.67634 | 0.58232 |\n",
            "|  31  |  0.54566  | 0.70452 | 0.61498 |\n",
            "|  47  |  0.37900  | 0.50890 | 0.43443 |\n",
            "|  19  |  0.50570  | 0.67015 | 0.57642 |\n",
            "|  1   |  0.59173  | 0.77611 | 0.67149 |\n",
            "|  41  |  0.70431  | 0.92829 | 0.80091 |\n",
            "|  13  |  0.48120  | 0.63588 | 0.54780 |\n",
            "|  30  |  0.53466  | 0.70402 | 0.60773 |\n",
            "|  9   |  0.56909  | 0.75181 | 0.64781 |\n",
            "| mean |  0.53937  | 0.71160 | 0.61360 |\n",
            "+------+-----------+---------+---------+\n",
            "8/8 [==============================] - 50s 6s/step - loss: 0.4927 - accuracy: 0.8122\n"
          ]
        },
        {
          "output_type": "stream",
          "name": "stderr",
          "text": [
            "\n",
            "Evaluate:   0%|                                                    | 0/10 [00:00<?, ?it/s]\u001b[A\n",
            "Evaluate:  10%|████▍                                       | 1/10 [00:00<00:06,  1.32it/s]\u001b[A\n",
            "Evaluate:  20%|████████▊                                   | 2/10 [00:01<00:06,  1.33it/s]\u001b[A\n",
            "Evaluate:  30%|█████████████▏                              | 3/10 [00:02<00:05,  1.32it/s]\u001b[A\n",
            "Evaluate:  40%|█████████████████▌                          | 4/10 [00:03<00:06,  1.02s/it]\u001b[A\n",
            "Evaluate:  50%|██████████████████████                      | 5/10 [00:05<00:05,  1.18s/it]\u001b[A\n",
            "Evaluate:  60%|██████████████████████████▍                 | 6/10 [00:06<00:04,  1.11s/it]\u001b[A\n",
            "Evaluate:  70%|██████████████████████████████▊             | 7/10 [00:06<00:03,  1.02s/it]\u001b[A\n",
            "Evaluate:  80%|███████████████████████████████████▏        | 8/10 [00:07<00:01,  1.08it/s]\u001b[A\n",
            "Evaluate:  90%|███████████████████████████████████████▌    | 9/10 [00:08<00:00,  1.14it/s]\u001b[A\n",
            "Evaluate: 100%|███████████████████████████████████████████| 10/10 [00:09<00:00,  1.18it/s]\u001b[A\n",
            "Epoch:  20%|█████████▍                                     | 2/10 [03:18<13:01, 97.71s/it]"
          ]
        },
        {
          "output_type": "stream",
          "name": "stdout",
          "text": [
            "+--------------------------------------+\n",
            "|     Evaluation Result of epoch 1     |\n",
            "+------+-----------+---------+---------+\n",
            "|  ID  | Precision |  Recall | F-Score |\n",
            "+------+-----------+---------+---------+\n",
            "|  11  |  0.54334  | 0.72650 | 0.62166 |\n",
            "|  14  |  0.55256  | 0.73795 | 0.63192 |\n",
            "|  31  |  0.57987  | 0.76746 | 0.66058 |\n",
            "|  47  |  0.43870  | 0.58994 | 0.50318 |\n",
            "|  19  |  0.50161  | 0.65660 | 0.56873 |\n",
            "|  1   |  0.62372  | 0.81605 | 0.70704 |\n",
            "|  41  |  0.72999  | 0.94675 | 0.82433 |\n",
            "|  13  |  0.40823  | 0.54250 | 0.46585 |\n",
            "|  30  |  0.53466  | 0.70402 | 0.60773 |\n",
            "|  9   |  0.55871  | 0.73812 | 0.63601 |\n",
            "| mean |  0.54714  | 0.72259 | 0.62270 |\n",
            "+------+-----------+---------+---------+\n",
            "8/8 [==============================] - 50s 6s/step - loss: 0.4894 - accuracy: 0.8122\n"
          ]
        },
        {
          "output_type": "stream",
          "name": "stderr",
          "text": [
            "\n",
            "Evaluate:   0%|                                                    | 0/10 [00:00<?, ?it/s]\u001b[A\n",
            "Evaluate:  10%|████▍                                       | 1/10 [00:00<00:06,  1.35it/s]\u001b[A\n",
            "Evaluate:  20%|████████▊                                   | 2/10 [00:01<00:06,  1.33it/s]\u001b[A\n",
            "Evaluate:  30%|█████████████▏                              | 3/10 [00:02<00:05,  1.32it/s]\u001b[A\n",
            "Evaluate:  40%|█████████████████▌                          | 4/10 [00:03<00:04,  1.32it/s]\u001b[A\n",
            "Evaluate:  50%|██████████████████████                      | 5/10 [00:03<00:03,  1.33it/s]\u001b[A\n",
            "Evaluate:  60%|██████████████████████████▍                 | 6/10 [00:04<00:03,  1.22it/s]\u001b[A\n",
            "Evaluate:  70%|██████████████████████████████▊             | 7/10 [00:05<00:02,  1.21it/s]\u001b[A\n",
            "Evaluate:  80%|███████████████████████████████████▏        | 8/10 [00:06<00:01,  1.27it/s]\u001b[A\n",
            "Evaluate:  90%|███████████████████████████████████████▌    | 9/10 [00:06<00:00,  1.31it/s]\u001b[A\n",
            "Evaluate: 100%|███████████████████████████████████████████| 10/10 [00:07<00:00,  1.29it/s]\u001b[A\n",
            "Epoch:  30%|██████████████                                 | 3/10 [04:15<09:15, 79.37s/it]"
          ]
        },
        {
          "output_type": "stream",
          "name": "stdout",
          "text": [
            "+--------------------------------------+\n",
            "|     Evaluation Result of epoch 2     |\n",
            "+------+-----------+---------+---------+\n",
            "|  ID  | Precision |  Recall | F-Score |\n",
            "+------+-----------+---------+---------+\n",
            "|  11  |  0.58432  | 0.77414 | 0.66591 |\n",
            "|  14  |  0.48277  | 0.64249 | 0.55128 |\n",
            "|  31  |  0.57987  | 0.76746 | 0.66058 |\n",
            "|  47  |  0.40647  | 0.54061 | 0.46402 |\n",
            "|  19  |  0.50597  | 0.66496 | 0.57466 |\n",
            "|  1   |  0.58616  | 0.76658 | 0.66433 |\n",
            "|  41  |  0.72999  | 0.94675 | 0.82433 |\n",
            "|  13  |  0.40823  | 0.54250 | 0.46585 |\n",
            "|  30  |  0.53466  | 0.70402 | 0.60773 |\n",
            "|  9   |  0.53202  | 0.70238 | 0.60544 |\n",
            "| mean |  0.53504  | 0.70519 | 0.60842 |\n",
            "+------+-----------+---------+---------+\n",
            "8/8 [==============================] - 50s 6s/step - loss: 0.4858 - accuracy: 0.8122\n"
          ]
        },
        {
          "output_type": "stream",
          "name": "stderr",
          "text": [
            "\n",
            "Evaluate:   0%|                                                    | 0/10 [00:00<?, ?it/s]\u001b[A\n",
            "Evaluate:  10%|████▍                                       | 1/10 [00:01<00:12,  1.40s/it]\u001b[A\n",
            "Evaluate:  20%|████████▊                                   | 2/10 [00:02<00:08,  1.03s/it]\u001b[A\n",
            "Evaluate:  30%|█████████████▏                              | 3/10 [00:02<00:06,  1.08it/s]\u001b[A\n",
            "Evaluate:  40%|█████████████████▌                          | 4/10 [00:03<00:05,  1.18it/s]\u001b[A\n",
            "Evaluate:  50%|██████████████████████                      | 5/10 [00:04<00:04,  1.25it/s]\u001b[A\n",
            "Evaluate:  60%|██████████████████████████▍                 | 6/10 [00:05<00:03,  1.18it/s]\u001b[A\n",
            "Evaluate:  70%|██████████████████████████████▊             | 7/10 [00:06<00:02,  1.18it/s]\u001b[A\n",
            "Evaluate:  80%|███████████████████████████████████▏        | 8/10 [00:06<00:01,  1.24it/s]\u001b[A\n",
            "Evaluate:  90%|███████████████████████████████████████▌    | 9/10 [00:07<00:00,  1.29it/s]\u001b[A\n",
            "Evaluate: 100%|███████████████████████████████████████████| 10/10 [00:08<00:00,  1.28it/s]\u001b[A\n",
            "Epoch:  40%|██████████████████▊                            | 4/10 [05:46<08:22, 83.75s/it]"
          ]
        },
        {
          "output_type": "stream",
          "name": "stdout",
          "text": [
            "+--------------------------------------+\n",
            "|     Evaluation Result of epoch 3     |\n",
            "+------+-----------+---------+---------+\n",
            "|  ID  | Precision |  Recall | F-Score |\n",
            "+------+-----------+---------+---------+\n",
            "|  11  |  0.58432  | 0.77414 | 0.66591 |\n",
            "|  14  |  0.49133  | 0.65525 | 0.56156 |\n",
            "|  31  |  0.60316  | 0.79483 | 0.68584 |\n",
            "|  47  |  0.47128  | 0.61303 | 0.53287 |\n",
            "|  19  |  0.48684  | 0.64107 | 0.55341 |\n",
            "|  1   |  0.62372  | 0.81605 | 0.70704 |\n",
            "|  41  |  0.72999  | 0.94675 | 0.82433 |\n",
            "|  13  |  0.40823  | 0.54250 | 0.46585 |\n",
            "|  30  |  0.53466  | 0.70402 | 0.60773 |\n",
            "|  9   |  0.55871  | 0.73812 | 0.63601 |\n",
            "| mean |  0.54922  | 0.72258 | 0.62405 |\n",
            "+------+-----------+---------+---------+\n",
            "8/8 [==============================] - 50s 6s/step - loss: 0.4869 - accuracy: 0.8122\n"
          ]
        },
        {
          "output_type": "stream",
          "name": "stderr",
          "text": [
            "\n",
            "Evaluate:   0%|                                                    | 0/10 [00:00<?, ?it/s]\u001b[A\n",
            "Evaluate:  10%|████▍                                       | 1/10 [00:00<00:06,  1.33it/s]\u001b[A\n",
            "Evaluate:  20%|████████▊                                   | 2/10 [00:01<00:06,  1.32it/s]\u001b[A\n",
            "Evaluate:  30%|█████████████▏                              | 3/10 [00:02<00:05,  1.33it/s]\u001b[A\n",
            "Evaluate:  40%|█████████████████▌                          | 4/10 [00:02<00:04,  1.36it/s]\u001b[A\n",
            "Evaluate:  50%|██████████████████████                      | 5/10 [00:03<00:03,  1.35it/s]\u001b[A\n",
            "Evaluate:  60%|██████████████████████████▍                 | 6/10 [00:04<00:03,  1.24it/s]\u001b[A\n",
            "Evaluate:  70%|██████████████████████████████▊             | 7/10 [00:05<00:02,  1.23it/s]\u001b[A\n",
            "Evaluate:  80%|███████████████████████████████████▏        | 8/10 [00:06<00:01,  1.29it/s]\u001b[A\n",
            "Evaluate:  90%|███████████████████████████████████████▌    | 9/10 [00:06<00:00,  1.32it/s]\u001b[A\n",
            "Evaluate: 100%|███████████████████████████████████████████| 10/10 [00:07<00:00,  1.29it/s]\u001b[A\n",
            "Epoch:  50%|███████████████████████▌                       | 5/10 [06:43<06:11, 74.25s/it]"
          ]
        },
        {
          "output_type": "stream",
          "name": "stdout",
          "text": [
            "+--------------------------------------+\n",
            "|     Evaluation Result of epoch 4     |\n",
            "+------+-----------+---------+---------+\n",
            "|  ID  | Precision |  Recall | F-Score |\n",
            "+------+-----------+---------+---------+\n",
            "|  11  |  0.58432  | 0.77414 | 0.66591 |\n",
            "|  14  |  0.49133  | 0.65525 | 0.56156 |\n",
            "|  31  |  0.60316  | 0.79483 | 0.68584 |\n",
            "|  47  |  0.43840  | 0.58257 | 0.50029 |\n",
            "|  19  |  0.47241  | 0.62432 | 0.53784 |\n",
            "|  1   |  0.62372  | 0.81605 | 0.70704 |\n",
            "|  41  |  0.72999  | 0.94675 | 0.82433 |\n",
            "|  13  |  0.40823  | 0.54250 | 0.46585 |\n",
            "|  30  |  0.53466  | 0.70402 | 0.60773 |\n",
            "|  9   |  0.55871  | 0.73812 | 0.63601 |\n",
            "| mean |  0.54449  | 0.71786 | 0.61924 |\n",
            "+------+-----------+---------+---------+\n",
            "8/8 [==============================] - 49s 6s/step - loss: 0.4865 - accuracy: 0.8122\n"
          ]
        },
        {
          "output_type": "stream",
          "name": "stderr",
          "text": [
            "\n",
            "Evaluate:   0%|                                                    | 0/10 [00:00<?, ?it/s]\u001b[A\n",
            "Evaluate:  10%|████▍                                       | 1/10 [00:00<00:06,  1.32it/s]\u001b[A\n",
            "Evaluate:  20%|████████▊                                   | 2/10 [00:01<00:05,  1.34it/s]\u001b[A\n",
            "Evaluate:  30%|█████████████▏                              | 3/10 [00:02<00:05,  1.30it/s]\u001b[A\n",
            "Evaluate:  40%|█████████████████▌                          | 4/10 [00:03<00:04,  1.34it/s]\u001b[A\n",
            "Evaluate:  50%|██████████████████████                      | 5/10 [00:03<00:03,  1.31it/s]\u001b[A\n",
            "Evaluate:  60%|██████████████████████████▍                 | 6/10 [00:04<00:03,  1.22it/s]\u001b[A\n",
            "Evaluate:  70%|██████████████████████████████▊             | 7/10 [00:05<00:02,  1.22it/s]\u001b[A\n",
            "Evaluate:  80%|███████████████████████████████████▏        | 8/10 [00:06<00:01,  1.27it/s]\u001b[A\n",
            "Evaluate:  90%|███████████████████████████████████████▌    | 9/10 [00:07<00:00,  1.29it/s]\u001b[A\n",
            "Evaluate: 100%|███████████████████████████████████████████| 10/10 [00:07<00:00,  1.27it/s]\u001b[A\n",
            "Epoch:  60%|████████████████████████████▏                  | 6/10 [08:13<05:18, 79.55s/it]"
          ]
        },
        {
          "output_type": "stream",
          "name": "stdout",
          "text": [
            "+--------------------------------------+\n",
            "|     Evaluation Result of epoch 5     |\n",
            "+------+-----------+---------+---------+\n",
            "|  ID  | Precision |  Recall | F-Score |\n",
            "+------+-----------+---------+---------+\n",
            "|  11  |  0.58432  | 0.77414 | 0.66591 |\n",
            "|  14  |  0.49133  | 0.65525 | 0.56156 |\n",
            "|  31  |  0.60316  | 0.79483 | 0.68584 |\n",
            "|  47  |  0.43840  | 0.58257 | 0.50029 |\n",
            "|  19  |  0.47241  | 0.62432 | 0.53784 |\n",
            "|  1   |  0.61422  | 0.80405 | 0.69643 |\n",
            "|  41  |  0.72999  | 0.94675 | 0.82433 |\n",
            "|  13  |  0.40823  | 0.54250 | 0.46585 |\n",
            "|  30  |  0.53466  | 0.70402 | 0.60773 |\n",
            "|  9   |  0.55871  | 0.73812 | 0.63601 |\n",
            "| mean |  0.54354  | 0.71666 | 0.61818 |\n",
            "+------+-----------+---------+---------+\n",
            "8/8 [==============================] - 50s 6s/step - loss: 0.4851 - accuracy: 0.8122\n"
          ]
        },
        {
          "output_type": "stream",
          "name": "stderr",
          "text": [
            "\n",
            "Evaluate:   0%|                                                    | 0/10 [00:00<?, ?it/s]\u001b[A\n",
            "Evaluate:  10%|████▍                                       | 1/10 [00:00<00:06,  1.32it/s]\u001b[A\n",
            "Evaluate:  20%|████████▊                                   | 2/10 [00:01<00:06,  1.31it/s]\u001b[A\n",
            "Evaluate:  30%|█████████████▏                              | 3/10 [00:02<00:05,  1.32it/s]\u001b[A\n",
            "Evaluate:  40%|█████████████████▌                          | 4/10 [00:03<00:04,  1.33it/s]\u001b[A\n",
            "Evaluate:  50%|██████████████████████                      | 5/10 [00:03<00:03,  1.33it/s]\u001b[A\n",
            "Evaluate:  60%|██████████████████████████▍                 | 6/10 [00:04<00:03,  1.23it/s]\u001b[A\n",
            "Evaluate:  70%|██████████████████████████████▊             | 7/10 [00:05<00:02,  1.23it/s]\u001b[A\n",
            "Evaluate:  80%|███████████████████████████████████▏        | 8/10 [00:06<00:01,  1.28it/s]\u001b[A\n",
            "Evaluate:  90%|███████████████████████████████████████▌    | 9/10 [00:06<00:00,  1.30it/s]\u001b[A\n",
            "Evaluate: 100%|███████████████████████████████████████████| 10/10 [00:07<00:00,  1.28it/s]\u001b[A\n",
            "Epoch:  70%|████████████████████████████████▉              | 7/10 [09:11<03:37, 72.48s/it]"
          ]
        },
        {
          "output_type": "stream",
          "name": "stdout",
          "text": [
            "+--------------------------------------+\n",
            "|     Evaluation Result of epoch 6     |\n",
            "+------+-----------+---------+---------+\n",
            "|  ID  | Precision |  Recall | F-Score |\n",
            "+------+-----------+---------+---------+\n",
            "|  11  |  0.54136  | 0.72095 | 0.61833 |\n",
            "|  14  |  0.49133  | 0.65525 | 0.56156 |\n",
            "|  31  |  0.60316  | 0.79483 | 0.68584 |\n",
            "|  47  |  0.47128  | 0.61303 | 0.53287 |\n",
            "|  19  |  0.49019  | 0.64895 | 0.55850 |\n",
            "|  1   |  0.62372  | 0.81605 | 0.70704 |\n",
            "|  41  |  0.72999  | 0.94675 | 0.82433 |\n",
            "|  13  |  0.40823  | 0.54250 | 0.46585 |\n",
            "|  30  |  0.53466  | 0.70402 | 0.60773 |\n",
            "|  9   |  0.55871  | 0.73812 | 0.63601 |\n",
            "| mean |  0.54526  | 0.71805 | 0.61981 |\n",
            "+------+-----------+---------+---------+\n",
            "8/8 [==============================] - 50s 6s/step - loss: 0.4840 - accuracy: 0.8122\n"
          ]
        },
        {
          "output_type": "stream",
          "name": "stderr",
          "text": [
            "\n",
            "Evaluate:   0%|                                                    | 0/10 [00:00<?, ?it/s]\u001b[A\n",
            "Evaluate:  10%|████▍                                       | 1/10 [00:00<00:06,  1.29it/s]\u001b[A\n",
            "Evaluate:  20%|████████▊                                   | 2/10 [00:01<00:06,  1.30it/s]\u001b[A\n",
            "Evaluate:  30%|█████████████▏                              | 3/10 [00:02<00:05,  1.31it/s]\u001b[A\n",
            "Evaluate:  40%|█████████████████▌                          | 4/10 [00:03<00:04,  1.33it/s]\u001b[A\n",
            "Evaluate:  50%|██████████████████████                      | 5/10 [00:03<00:03,  1.33it/s]\u001b[A\n",
            "Evaluate:  60%|██████████████████████████▍                 | 6/10 [00:04<00:03,  1.23it/s]\u001b[A\n",
            "Evaluate:  70%|██████████████████████████████▊             | 7/10 [00:05<00:02,  1.22it/s]\u001b[A\n",
            "Evaluate:  80%|███████████████████████████████████▏        | 8/10 [00:06<00:01,  1.27it/s]\u001b[A\n",
            "Evaluate:  90%|███████████████████████████████████████▌    | 9/10 [00:06<00:00,  1.32it/s]\u001b[A\n",
            "Evaluate: 100%|███████████████████████████████████████████| 10/10 [00:07<00:00,  1.32it/s]\u001b[A\n",
            "Epoch:  80%|█████████████████████████████████████▌         | 8/10 [10:09<02:15, 67.93s/it]"
          ]
        },
        {
          "output_type": "stream",
          "name": "stdout",
          "text": [
            "+--------------------------------------+\n",
            "|     Evaluation Result of epoch 7     |\n",
            "+------+-----------+---------+---------+\n",
            "|  ID  | Precision |  Recall | F-Score |\n",
            "+------+-----------+---------+---------+\n",
            "|  11  |  0.54334  | 0.72650 | 0.62166 |\n",
            "|  14  |  0.49133  | 0.65525 | 0.56156 |\n",
            "|  31  |  0.60316  | 0.79483 | 0.68584 |\n",
            "|  47  |  0.43870  | 0.58994 | 0.50318 |\n",
            "|  19  |  0.49019  | 0.64895 | 0.55850 |\n",
            "|  1   |  0.61422  | 0.80405 | 0.69643 |\n",
            "|  41  |  0.72999  | 0.94675 | 0.82433 |\n",
            "|  13  |  0.40823  | 0.54250 | 0.46585 |\n",
            "|  30  |  0.53466  | 0.70402 | 0.60773 |\n",
            "|  9   |  0.55871  | 0.73812 | 0.63601 |\n",
            "| mean |  0.54125  | 0.71509 | 0.61611 |\n",
            "+------+-----------+---------+---------+\n",
            "8/8 [==============================] - 49s 6s/step - loss: 0.4859 - accuracy: 0.8122\n"
          ]
        },
        {
          "output_type": "stream",
          "name": "stderr",
          "text": [
            "\n",
            "Evaluate:   0%|                                                    | 0/10 [00:00<?, ?it/s]\u001b[A\n",
            "Evaluate:  10%|████▍                                       | 1/10 [00:00<00:06,  1.29it/s]\u001b[A\n",
            "Evaluate:  20%|████████▊                                   | 2/10 [00:01<00:06,  1.31it/s]\u001b[A\n",
            "Evaluate:  30%|█████████████▏                              | 3/10 [00:02<00:05,  1.33it/s]\u001b[A\n",
            "Evaluate:  40%|█████████████████▌                          | 4/10 [00:03<00:04,  1.34it/s]\u001b[A\n",
            "Evaluate:  50%|██████████████████████                      | 5/10 [00:03<00:03,  1.33it/s]\u001b[A\n",
            "Evaluate:  60%|██████████████████████████▍                 | 6/10 [00:04<00:03,  1.20it/s]\u001b[A\n",
            "Evaluate:  70%|██████████████████████████████▊             | 7/10 [00:05<00:02,  1.20it/s]\u001b[A\n",
            "Evaluate:  80%|███████████████████████████████████▏        | 8/10 [00:06<00:01,  1.26it/s]\u001b[A\n",
            "Evaluate:  90%|███████████████████████████████████████▌    | 9/10 [00:07<00:00,  1.29it/s]\u001b[A\n",
            "Evaluate: 100%|███████████████████████████████████████████| 10/10 [00:07<00:00,  1.27it/s]\u001b[A\n",
            "Epoch:  90%|██████████████████████████████████████████▎    | 9/10 [11:39<01:14, 74.78s/it]"
          ]
        },
        {
          "output_type": "stream",
          "name": "stdout",
          "text": [
            "+--------------------------------------+\n",
            "|     Evaluation Result of epoch 8     |\n",
            "+------+-----------+---------+---------+\n",
            "|  ID  | Precision |  Recall | F-Score |\n",
            "+------+-----------+---------+---------+\n",
            "|  11  |  0.55124  | 0.73912 | 0.63145 |\n",
            "|  14  |  0.51752  | 0.68943 | 0.59122 |\n",
            "|  31  |  0.52519  | 0.69168 | 0.59703 |\n",
            "|  47  |  0.42204  | 0.56622 | 0.48360 |\n",
            "|  19  |  0.51429  | 0.68026 | 0.58574 |\n",
            "|  1   |  0.58064  | 0.76269 | 0.65933 |\n",
            "|  41  |  0.70431  | 0.92829 | 0.80091 |\n",
            "|  13  |  0.48120  | 0.63588 | 0.54780 |\n",
            "|  30  |  0.53466  | 0.70402 | 0.60773 |\n",
            "|  9   |  0.56909  | 0.75181 | 0.64781 |\n",
            "| mean |  0.54002  | 0.71494 | 0.61526 |\n",
            "+------+-----------+---------+---------+\n",
            "8/8 [==============================] - 50s 6s/step - loss: 0.4830 - accuracy: 0.8122\n"
          ]
        },
        {
          "output_type": "stream",
          "name": "stderr",
          "text": [
            "\n",
            "Evaluate:   0%|                                                    | 0/10 [00:00<?, ?it/s]\u001b[A\n",
            "Evaluate:  10%|████▍                                       | 1/10 [00:00<00:06,  1.29it/s]\u001b[A\n",
            "Evaluate:  20%|████████▊                                   | 2/10 [00:01<00:05,  1.34it/s]\u001b[A\n",
            "Evaluate:  30%|█████████████▏                              | 3/10 [00:02<00:05,  1.33it/s]\u001b[A\n",
            "Evaluate:  40%|█████████████████▌                          | 4/10 [00:03<00:04,  1.33it/s]\u001b[A\n",
            "Evaluate:  50%|██████████████████████                      | 5/10 [00:03<00:03,  1.34it/s]\u001b[A\n",
            "Evaluate:  60%|██████████████████████████▍                 | 6/10 [00:04<00:03,  1.24it/s]\u001b[A\n",
            "Evaluate:  70%|██████████████████████████████▊             | 7/10 [00:05<00:02,  1.23it/s]\u001b[A\n",
            "Evaluate:  80%|███████████████████████████████████▏        | 8/10 [00:06<00:01,  1.27it/s]\u001b[A\n",
            "Evaluate:  90%|███████████████████████████████████████▌    | 9/10 [00:06<00:00,  1.30it/s]\u001b[A\n",
            "Evaluate: 100%|███████████████████████████████████████████| 10/10 [00:07<00:00,  1.29it/s]\u001b[A\n",
            "Epoch: 100%|██████████████████████████████████████████████| 10/10 [13:09<00:00, 78.92s/it]"
          ]
        },
        {
          "output_type": "stream",
          "name": "stdout",
          "text": [
            "+--------------------------------------+\n",
            "|     Evaluation Result of epoch 9     |\n",
            "+------+-----------+---------+---------+\n",
            "|  ID  | Precision |  Recall | F-Score |\n",
            "+------+-----------+---------+---------+\n",
            "|  11  |  0.54136  | 0.72095 | 0.61833 |\n",
            "|  14  |  0.49133  | 0.65525 | 0.56156 |\n",
            "|  31  |  0.60316  | 0.79483 | 0.68584 |\n",
            "|  47  |  0.43870  | 0.58994 | 0.50318 |\n",
            "|  19  |  0.49019  | 0.64895 | 0.55850 |\n",
            "|  1   |  0.62372  | 0.81605 | 0.70704 |\n",
            "|  41  |  0.72999  | 0.94675 | 0.82433 |\n",
            "|  13  |  0.40823  | 0.54250 | 0.46585 |\n",
            "|  30  |  0.53466  | 0.70402 | 0.60773 |\n",
            "|  9   |  0.55871  | 0.73812 | 0.63601 |\n",
            "| mean |  0.54200  | 0.71574 | 0.61684 |\n",
            "+------+-----------+---------+---------+\n"
          ]
        },
        {
          "output_type": "stream",
          "name": "stderr",
          "text": [
            "\n"
          ]
        }
      ]
    },
    {
      "cell_type": "code",
      "source": [
        "# Improved with two extra BiLSTM layers, one extra LSTM layer and two more Time Distributed layers and some hyperparameter tuning\n",
        "\n",
        "import numpy as np\n",
        "import json\n",
        "import os\n",
        "from tqdm import tqdm, trange\n",
        "import h5py\n",
        "from prettytable import PrettyTable\n",
        "\n",
        "import tensorflow as tf\n",
        "from tensorflow.keras.models import Sequential\n",
        "from tensorflow.keras.layers import LSTM, Bidirectional, Dense, TimeDistributed, Concatenate\n",
        "from tensorflow.keras.layers import Attention\n",
        "from tensorflow.keras import Input, Model\n",
        "from keras.layers import LeakyReLU\n",
        "\n",
        "encoder_inputs = Input(shape = (320, 1024))\n",
        "\n",
        "encoder_BidirectionalLSTM = Bidirectional(LSTM(64, return_sequences = True, return_state = True))\n",
        "encoder_BidirectionalLSTM1 = Bidirectional(LSTM(64, return_sequences = True, return_state = True))\n",
        "encoder_BidirectionalLSTM2 = Bidirectional(LSTM(64, return_sequences = True, return_state = True))\n",
        "encoder_out, fh, fc, bh, bc = encoder_BidirectionalLSTM(encoder_inputs)\n",
        "encoder_out, fh, fc, bh, bc = encoder_BidirectionalLSTM1(encoder_out)\n",
        "encoder_out, fh, fc, bh, bc = encoder_BidirectionalLSTM2(encoder_out)\n",
        "sh = Concatenate()([fh, bh])\n",
        "ch = Concatenate()([fc, bc])\n",
        "encoder_states = [sh, ch]\n",
        "\n",
        "decoder_LSTM = LSTM(128, return_sequences = True)\n",
        "decoder_out = decoder_LSTM(encoder_out, initial_state = encoder_states)\n",
        "decoder_out = decoder_LSTM(decoder_out)\n",
        "\n",
        "attn_layer = Attention(name=\"Attention_Layer\")\n",
        "attn_out =  attn_layer([encoder_out, decoder_out])\n",
        "\n",
        "decoder_concat_input = Concatenate(axis = -1, name = 'concat_layer')([decoder_out, attn_out])\n",
        "\n",
        "\n",
        "dense = TimeDistributed(Dense(42, activation = 'relu'))\n",
        "decoder_pred = dense(decoder_concat_input)\n",
        "\n",
        "dense = TimeDistributed(Dense(14, activation = 'tanh'))\n",
        "decoder_pred = dense(decoder_pred)\n",
        "\n",
        "dense = TimeDistributed(Dense(1, activation = 'sigmoid'))\n",
        "decoder_pred = dense(decoder_pred)\n",
        "\n",
        "model = Model(inputs = encoder_inputs, outputs = decoder_pred)\n",
        "\n",
        "opt = tf.keras.optimizers.Adam(learning_rate=0.001, beta_1 = 0.8, beta_2 = 0.8)\n",
        "#opt = tf.keras.optimizers.SGD(lr=0.001, decay=1e-6, momentum=0.9, nesterov=True)\n",
        "\n",
        "model.compile(loss = 'binary_crossentropy', optimizer = opt, metrics = ['accuracy'])\n",
        "model.summary()\n",
        "t = trange(1, desc = 'Epoch', ncols = 90)\n",
        "for epoch_i in t:\n",
        "\n",
        "    model.fit(train_loader)\n",
        "    evaluate(epoch_i)"
      ],
      "metadata": {
        "colab": {
          "base_uri": "https://localhost:8080/"
        },
        "id": "O2SBTtrQGVH1",
        "outputId": "3dceb06f-3cd1-4002-9bc8-5e51f542f80d"
      },
      "execution_count": null,
      "outputs": [
        {
          "output_type": "stream",
          "name": "stdout",
          "text": [
            "Model: \"model_7\"\n",
            "__________________________________________________________________________________________________\n",
            " Layer (type)                   Output Shape         Param #     Connected to                     \n",
            "==================================================================================================\n",
            " input_8 (InputLayer)           [(None, 320, 1024)]  0           []                               \n",
            "                                                                                                  \n",
            " bidirectional_21 (Bidirectiona  [(None, 320, 128),  557568      ['input_8[0][0]']                \n",
            " l)                              (None, 64),                                                      \n",
            "                                 (None, 64),                                                      \n",
            "                                 (None, 64),                                                      \n",
            "                                 (None, 64)]                                                      \n",
            "                                                                                                  \n",
            " bidirectional_22 (Bidirectiona  [(None, 320, 128),  98816       ['bidirectional_21[0][0]']       \n",
            " l)                              (None, 64),                                                      \n",
            "                                 (None, 64),                                                      \n",
            "                                 (None, 64),                                                      \n",
            "                                 (None, 64)]                                                      \n",
            "                                                                                                  \n",
            " bidirectional_23 (Bidirectiona  [(None, 320, 128),  98816       ['bidirectional_22[0][0]']       \n",
            " l)                              (None, 64),                                                      \n",
            "                                 (None, 64),                                                      \n",
            "                                 (None, 64),                                                      \n",
            "                                 (None, 64)]                                                      \n",
            "                                                                                                  \n",
            " concatenate_14 (Concatenate)   (None, 128)          0           ['bidirectional_23[0][1]',       \n",
            "                                                                  'bidirectional_23[0][3]']       \n",
            "                                                                                                  \n",
            " concatenate_15 (Concatenate)   (None, 128)          0           ['bidirectional_23[0][2]',       \n",
            "                                                                  'bidirectional_23[0][4]']       \n",
            "                                                                                                  \n",
            " lstm_31 (LSTM)                 (None, 320, 128)     131584      ['bidirectional_23[0][0]',       \n",
            "                                                                  'concatenate_14[0][0]',         \n",
            "                                                                  'concatenate_15[0][0]',         \n",
            "                                                                  'lstm_31[0][0]']                \n",
            "                                                                                                  \n",
            " Attention_Layer (Attention)    (None, 320, 128)     0           ['bidirectional_23[0][0]',       \n",
            "                                                                  'lstm_31[1][0]']                \n",
            "                                                                                                  \n",
            " concat_layer (Concatenate)     (None, 320, 256)     0           ['lstm_31[1][0]',                \n",
            "                                                                  'Attention_Layer[0][0]']        \n",
            "                                                                                                  \n",
            " time_distributed_18 (TimeDistr  (None, 320, 42)     10794       ['concat_layer[0][0]']           \n",
            " ibuted)                                                                                          \n",
            "                                                                                                  \n",
            " time_distributed_19 (TimeDistr  (None, 320, 14)     602         ['time_distributed_18[0][0]']    \n",
            " ibuted)                                                                                          \n",
            "                                                                                                  \n",
            " time_distributed_20 (TimeDistr  (None, 320, 1)      15          ['time_distributed_19[0][0]']    \n",
            " ibuted)                                                                                          \n",
            "                                                                                                  \n",
            "==================================================================================================\n",
            "Total params: 898,195\n",
            "Trainable params: 898,195\n",
            "Non-trainable params: 0\n",
            "__________________________________________________________________________________________________\n"
          ]
        },
        {
          "output_type": "stream",
          "name": "stderr",
          "text": [
            "\rEpoch:   0%|                                                        | 0/1 [00:00<?, ?it/s]"
          ]
        },
        {
          "output_type": "stream",
          "name": "stdout",
          "text": [
            "8/8 [==============================] - 28s 2s/step - loss: 0.5270 - accuracy: 0.8122\n"
          ]
        },
        {
          "output_type": "stream",
          "name": "stderr",
          "text": [
            "\n",
            "Evaluate:   0%|                                                    | 0/10 [00:00<?, ?it/s]\u001b[A\n",
            "Evaluate:  10%|████▍                                       | 1/10 [00:03<00:29,  3.26s/it]\u001b[A\n",
            "Evaluate:  20%|████████▊                                   | 2/10 [00:03<00:11,  1.49s/it]\u001b[A\n",
            "Evaluate:  30%|█████████████▏                              | 3/10 [00:03<00:06,  1.09it/s]\u001b[A\n",
            "Evaluate:  40%|█████████████████▌                          | 4/10 [00:03<00:03,  1.54it/s]\u001b[A\n",
            "Evaluate:  50%|██████████████████████                      | 5/10 [00:04<00:02,  1.96it/s]\u001b[A\n",
            "Evaluate:  60%|██████████████████████████▍                 | 6/10 [00:04<00:01,  2.05it/s]\u001b[A\n",
            "Evaluate:  70%|██████████████████████████████▊             | 7/10 [00:05<00:01,  2.29it/s]\u001b[A\n",
            "Evaluate:  80%|███████████████████████████████████▏        | 8/10 [00:05<00:00,  2.70it/s]\u001b[A\n",
            "Evaluate:  90%|███████████████████████████████████████▌    | 9/10 [00:05<00:00,  3.05it/s]\u001b[A\n",
            "Evaluate: 100%|███████████████████████████████████████████| 10/10 [00:05<00:00,  3.15it/s]\u001b[A\n",
            "Epoch: 100%|████████████████████████████████████████████████| 1/1 [00:39<00:00, 39.21s/it]"
          ]
        },
        {
          "output_type": "stream",
          "name": "stdout",
          "text": [
            "+--------------------------------------+\n",
            "|     Evaluation Result of epoch 0     |\n",
            "+------+-----------+---------+---------+\n",
            "|  ID  | Precision |  Recall | F-Score |\n",
            "+------+-----------+---------+---------+\n",
            "|  11  |  0.58432  | 0.77414 | 0.66591 |\n",
            "|  14  |  0.49050  | 0.65497 | 0.56091 |\n",
            "|  31  |  0.60184  | 0.79183 | 0.68387 |\n",
            "|  47  |  0.46386  | 0.61857 | 0.53014 |\n",
            "|  19  |  0.47241  | 0.62432 | 0.53784 |\n",
            "|  1   |  0.59707  | 0.78423 | 0.67797 |\n",
            "|  41  |  0.72361  | 0.94516 | 0.81965 |\n",
            "|  13  |  0.40823  | 0.54250 | 0.46585 |\n",
            "|  30  |  0.53466  | 0.70402 | 0.60773 |\n",
            "|  9   |  0.58259  | 0.75906 | 0.65922 |\n",
            "| mean |  0.54591  | 0.71988 | 0.62091 |\n",
            "+------+-----------+---------+---------+\n"
          ]
        },
        {
          "output_type": "stream",
          "name": "stderr",
          "text": [
            "\n"
          ]
        }
      ]
    },
    {
      "cell_type": "markdown",
      "source": [
        "# **Performance of our model :**"
      ],
      "metadata": {
        "id": "jIFPv4H-SHOl"
      }
    },
    {
      "cell_type": "code",
      "source": [
        "import matplotlib.pyplot as plt\n",
        "import pandas as pd"
      ],
      "metadata": {
        "id": "Xnf_H_OJSL_E"
      },
      "execution_count": null,
      "outputs": []
    },
    {
      "cell_type": "code",
      "source": [
        "# Performance metrics of our model\n",
        "model_perf_dict = {'score' : ['precision', 'recall', 'f1-score'],\n",
        "                   'average' : [54.6, 72., 62.0],\n",
        "                   'can get upto' : [55.5,72.9,63.0]}\n",
        "model_perf_dict = pd.DataFrame(model_perf_dict)"
      ],
      "metadata": {
        "id": "aEvBEs9dSONU"
      },
      "execution_count": null,
      "outputs": []
    },
    {
      "cell_type": "code",
      "source": [
        "# Visualizing performance metrics of our model\n",
        "plt.figure(figsize = (15,6))\n",
        "plt.barh(model_perf_dict['score'],model_perf_dict['average'],color = 'blue')\n",
        "plt.barh(model_perf_dict['score'],model_perf_dict['can get upto'],color = 'blue', alpha = 0.5)\n",
        "for i, v in enumerate(model_perf_dict['can get upto']):\n",
        "     plt.text(v + 0.5, i, str(v), color='green', fontsize = 15)\n",
        "\n",
        "for i, v in enumerate(model_perf_dict['average']):\n",
        "     plt.text(v - 2.7, i, str(v), color='white', fontsize = 15)\n",
        "\n",
        "plt.xlabel('Score')\n",
        "plt.ylabel('Score Type')\n",
        "plt.title('Model Performance metrics', fontsize = 20)"
      ],
      "metadata": {
        "colab": {
          "base_uri": "https://localhost:8080/",
          "height": 426
        },
        "id": "JqfI7kYhSOK0",
        "outputId": "f8ee29bc-71a3-4faa-a1b0-4df3e189ca3e"
      },
      "execution_count": null,
      "outputs": [
        {
          "output_type": "execute_result",
          "data": {
            "text/plain": [
              "Text(0.5, 1.0, 'Model Performance metrics')"
            ]
          },
          "metadata": {},
          "execution_count": 75
        },
        {
          "output_type": "display_data",
          "data": {
            "image/png": "[encoded data removed]",
            "text/plain": [
              "<Figure size 1080x432 with 1 Axes>"
            ]
          },
          "metadata": {
            "needs_background": "light"
          }
        }
      ]
    },
    {
      "cell_type": "markdown",
      "source": [
        "# **Comparison with other existing models :**"
      ],
      "metadata": {
        "id": "rRyQEeAKJq9c"
      }
    },
    {
      "cell_type": "code",
      "source": [
        "import matplotlib.pyplot as plt\n",
        "import pandas as pd"
      ],
      "metadata": {
        "id": "VY1kXHC2JwhD"
      },
      "execution_count": null,
      "outputs": []
    },
    {
      "cell_type": "code",
      "source": [
        "# F1-scores of different models\n",
        "performance_dict = {'model_name' : ['TVSum unsupervised','SUM-GANdpp unsupervised','vsLSTM supervised','dppLSTM supervised','SUM-GANsup supervised',\n",
        "                                    'Li et al. supervised','DR-DSN','HSA-RNN Supervised','DySeqDPP Supervised','CSNet','A-AVS supervised','AC-SUM-GAN','M-AVS supervised',\n",
        "                                    'M-AVS(with extra layers) supervised(OURS)'],\n",
        "                    'F1-score' : [51.3,51.7,54.2,54.7,56.3,52.7,57.6,59.8,58.4,58.8,59.4,60.6,61.0,62.0]}\n",
        "\n",
        "performance_df = pd.DataFrame(performance_dict)\n",
        "performance_df = performance_df.sort_values(['F1-score'])\n"
      ],
      "metadata": {
        "id": "0weuKc47Jwek"
      },
      "execution_count": null,
      "outputs": []
    },
    {
      "cell_type": "code",
      "source": [
        "# Visualizing F1-scores of different models\n",
        "plt.figure(figsize = (15,9))\n",
        "plt.barh(performance_df['model_name'],performance_df['F1-score'])\n",
        "for i, v in enumerate(performance_df['F1-score']):\n",
        "    plt.text(v + 0.5, i-0.1, str(v), color='blue')\n",
        "\n",
        "plt.xlabel('F1-score')\n",
        "plt.ylabel('Model Name')\n",
        "plt.title('Comparison of F1-scores of various models', fontsize = 20)"
      ],
      "metadata": {
        "colab": {
          "base_uri": "https://localhost:8080/",
          "height": 589
        },
        "id": "oxrVO2GwJwcM",
        "outputId": "d6160a82-7f17-4ebe-b8d1-b814808dee05"
      },
      "execution_count": null,
      "outputs": [
        {
          "output_type": "execute_result",
          "data": {
            "text/plain": [
              "Text(0.5, 1.0, 'Comparison of F1-scores of various models')"
            ]
          },
          "metadata": {},
          "execution_count": 48
        },
        {
          "output_type": "display_data",
          "data": {
            "image/png": "[encoded data removed]",
            "text/plain": [
              "<Figure size 1080x648 with 1 Axes>"
            ]
          },
          "metadata": {
            "needs_background": "light"
          }
        }
      ]
    },
    {
      "cell_type": "markdown",
      "source": [
        "# **Getting an Output :**"
      ],
      "metadata": {
        "id": "3gRh0AMxx7Vr"
      }
    },
    {
      "cell_type": "code",
      "source": [
        "# Reading the h5 file\n",
        "data_file = h5py.File('fcsn_tvsum.h5')"
      ],
      "metadata": {
        "id": "EWdXtJyHfF_2"
      },
      "execution_count": null,
      "outputs": []
    },
    {
      "cell_type": "code",
      "source": [
        "# Predicting scores for a particular video using the model\n",
        "pred_score = model.predict(np.array(data_file['video_30']['feature']).reshape(-1,320,1024))\n",
        "video_info = data_file['video_30']\n",
        "pred_score, pred_selected, pred_summary = select_keyshots(video_info, pred_score)"
      ],
      "metadata": {
        "id": "4_1OmH11azap"
      },
      "execution_count": null,
      "outputs": []
    },
    {
      "cell_type": "code",
      "source": [
        "# Selected shots\n",
        "pred_selected"
      ],
      "metadata": {
        "colab": {
          "base_uri": "https://localhost:8080/"
        },
        "id": "d8m9ixE_cqlx",
        "outputId": "2bd19f29-6ba6-437f-e2fb-f7c532bc9caa"
      },
      "execution_count": null,
      "outputs": [
        {
          "output_type": "execute_result",
          "data": {
            "text/plain": [
              "[1, 5, 8, 13, 15, 18, 21, 24]"
            ]
          },
          "metadata": {},
          "execution_count": 66
        }
      ]
    },
    {
      "cell_type": "code",
      "source": [
        "# Getting the output summary video\n",
        "import cv2\n",
        "cps = video_info['change_points'][()]\n",
        "\n",
        "video = cv2.VideoCapture('video_30.mp4')\n",
        "frames = []\n",
        "success, frame = video.read()\n",
        "while success:\n",
        "    frames.append(frame)\n",
        "    success, frame = video.read()\n",
        "frames = np.array(frames)\n",
        "keyshots = []\n",
        "for sel in pred_selected:\n",
        "    for i in range(cps[sel][0], cps[sel][1]):\n",
        "         keyshots.append(frames[i])\n",
        "keyshots = np.array(keyshots)\n",
        "\n",
        "video_writer = cv2.VideoWriter('summary.mp4', cv2.VideoWriter_fourcc(*'MP4V'), 24, keyshots.shape[2:0:-1])\n",
        "for frame in keyshots:\n",
        "    video_writer.write(frame)\n",
        "video_writer.release()"
      ],
      "metadata": {
        "id": "7GHxeMLactGh"
      },
      "execution_count": null,
      "outputs": []
    },
    {
      "cell_type": "code",
      "source": [
        ""
      ],
      "metadata": {
        "id": "8vxJJVycz7GU"
      },
      "execution_count": null,
      "outputs": []
    }
  ],
  "metadata": {
    "colab": {
      "collapsed_sections": [],
      "name": "Full_Stack_Code - V2.0.ipynb",
      "provenance": []
    },
    "kernelspec": {
      "display_name": "Python 3",
      "name": "python3"
    },
    "language_info": {
      "name": "python"
    }
  },
  "nbformat": 4,
  "nbformat_minor": 0
}